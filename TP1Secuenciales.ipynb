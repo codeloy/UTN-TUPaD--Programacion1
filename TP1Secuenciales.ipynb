{
 "cells": [
  {
   "cell_type": "markdown",
   "id": "85b21cac",
   "metadata": {},
   "source": [
    "### <font color=\"LightBlue\">Trabajo Practico 1 Secuenciales</font> \n",
    "##### <font color=\"Orange\">Nombre: Eloy Arana</font>"
   ]
  },
  {
   "cell_type": "markdown",
   "id": "3f1529e5",
   "metadata": {},
   "source": [
    "##### <font color=\"orange\">1</font> Crear un programa que imprima por pantalla el mensaje: “Hola Mundo!”."
   ]
  },
  {
   "cell_type": "code",
   "execution_count": 1,
   "id": "e82e76c1",
   "metadata": {},
   "outputs": [
    {
     "name": "stdout",
     "output_type": "stream",
     "text": [
      "Hola Mundo!\n"
     ]
    }
   ],
   "source": [
    "print(\"Hola Mundo!\")"
   ]
  },
  {
   "cell_type": "markdown",
   "id": "d602925a",
   "metadata": {},
   "source": [
    "##### <font color=\"orange\">2</font> Crear un programa que pida al usuario su nombre e imprima por pantalla un saludo usando el nombre ingresado. Por ejemplo: si el usuario ingresa “Marcos”, el programa debe imprimir por pantalla “Hola Marcos!”. Consejo: esto será más sencillo si utilizas print(f…) para realizar la impresión por pantalla."
   ]
  },
  {
   "cell_type": "code",
   "execution_count": 4,
   "id": "0fe3101c",
   "metadata": {},
   "outputs": [
    {
     "name": "stdout",
     "output_type": "stream",
     "text": [
      "Hola Eloy!\n"
     ]
    }
   ],
   "source": [
    "nombre = input(\"introduzca su nombre\")\n",
    "print(f\"Hola {nombre}!\")"
   ]
  },
  {
   "cell_type": "markdown",
   "id": "b39e6c16",
   "metadata": {},
   "source": [
    "##### <font color=\"orange\">3</font> Crear un programa que pida al usuario su nombre, apellido, edad y lugar de residencia e imprima por pantalla una oración con los datos ingresados. Por ejemplo: si el usuario ingresa “Marcos”, “Pérez”, “30” y “Argentina”, el programa debe imprimir “Soy Marcos Pérez, tengo 30 años y vivo en Argentina”. Consejo: esto será más sencillo si utilizas print(f…) para realizar la impresión por pantalla."
   ]
  },
  {
   "cell_type": "code",
   "execution_count": 5,
   "id": "4d458192",
   "metadata": {},
   "outputs": [
    {
     "name": "stdout",
     "output_type": "stream",
     "text": [
      "Soy Eloy Arana, tengo 45, años y vivo en España \n"
     ]
    }
   ],
   "source": [
    "nombre = input(\"introduce tu nombre\")\n",
    "apellido = input(\"introduce tu apellido\")\n",
    "edad = int(input(\"Introduce tu edad\"))\n",
    "lugar_residencia = input(\"introduce tu lugar de residencia\")\n",
    "print(f\"Soy {nombre} {apellido}, tengo {edad}, años y vivo en {lugar_residencia} \")"
   ]
  },
  {
   "cell_type": "markdown",
   "id": "2b3d4183",
   "metadata": {},
   "source": [
    "##### <font color=\"orange\">4</font> Crear un programa que pida al usuario el radio de un círculo e imprima por pantalla su área y su perímetro."
   ]
  },
  {
   "cell_type": "code",
   "execution_count": 8,
   "id": "d79fad39",
   "metadata": {},
   "outputs": [
    {
     "name": "stdout",
     "output_type": "stream",
     "text": [
      "El area del circulo es 201.0624\n"
     ]
    }
   ],
   "source": [
    "radio = int(input(\"introduce el radio del circulo\"))\n",
    "pi = 3.1416\n",
    "area = pi*radio*radio\n",
    "print(f\"El area del circulo es {area}\")"
   ]
  },
  {
   "cell_type": "markdown",
   "id": "aa68b5ec",
   "metadata": {},
   "source": [
    "##### <font color=\"orange\">5</font> Crear un programa que pida al usuario una cantidad de segundos e imprima por pantalla acuántas horas equivale.\n"
   ]
  },
  {
   "cell_type": "code",
   "execution_count": 13,
   "id": "b54f4fac",
   "metadata": {},
   "outputs": [
    {
     "name": "stdout",
     "output_type": "stream",
     "text": [
      "los segundos 3600 equivalen a 1.0 horas\n"
     ]
    }
   ],
   "source": [
    "segundos = int(input(\"Introduce la cantidad de segundos que deseas convertir\"))\n",
    "minutos = segundos/60\n",
    "horas = minutos/60\n",
    "print(f\"los segundos {segundos} equivalen a {horas} horas\")"
   ]
  },
  {
   "cell_type": "markdown",
   "id": "b9aba0a7",
   "metadata": {},
   "source": [
    "##### <font color=\"orange\">6</font>  Crear un programa que pida al usuario un número e imprima por pantalla la tabla de multiplicar de dicho número."
   ]
  },
  {
   "cell_type": "code",
   "execution_count": 18,
   "id": "d6e11eca",
   "metadata": {},
   "outputs": [
    {
     "name": "stdout",
     "output_type": "stream",
     "text": [
      "8\n",
      "16\n",
      "24\n",
      "32\n",
      "40\n",
      "48\n",
      "56\n",
      "64\n",
      "72\n",
      "80\n"
     ]
    }
   ],
   "source": [
    "numero = int(input(\"Introduce un numero\"))\n",
    "for i in range(1,11):\n",
    "    print(i*numero) "
   ]
  },
  {
   "cell_type": "markdown",
   "id": "6b92c0df",
   "metadata": {},
   "source": [
    "#### <font color=\"orange\">7</font>  Crear un programa que pida al usuario dos números enteros distintos del 0 y muestre por pantalla el resultado de sumarlos, dividirlos, multiplicarlos y restarlos."
   ]
  },
  {
   "cell_type": "code",
   "execution_count": 20,
   "id": "c4c975ce",
   "metadata": {},
   "outputs": [
    {
     "name": "stdout",
     "output_type": "stream",
     "text": [
      "La suma de 12 y 2 es 14\n",
      "La resta de 12 y 2 es 10\n",
      "La multiplicación de 12 y 2 es 24\n",
      "La división de 12 y 2 es 6.0\n"
     ]
    }
   ],
   "source": [
    "num1 = int(input(\"Introduzca el primer numero diferente de cero\"))\n",
    "num2 = int(input(\"Introduzca el segundo numero diferente de cero\"))\n",
    "print(f\"La suma de {num1} y {num2} es {num1+num2}\")\n",
    "print(f\"La resta de {num1} y {num2} es {num1-num2}\")\n",
    "print(f\"La multiplicación de {num1} y {num2} es {num1*num2}\")\n",
    "print(f\"La división de {num1} y {num2} es {num1/num2}\")"
   ]
  },
  {
   "cell_type": "markdown",
   "id": "3f637462",
   "metadata": {},
   "source": [
    "#### <font color=\"orange\">8</font> Crear un programa que pida al usuario su altura y su peso e imprima por pantalla su índice de masa corporal."
   ]
  },
  {
   "cell_type": "code",
   "execution_count": null,
   "id": "7b175f04",
   "metadata": {},
   "outputs": [
    {
     "name": "stdout",
     "output_type": "stream",
     "text": [
      "Su indice de masa corporal es 0.45348837209302323\n"
     ]
    }
   ],
   "source": [
    "#IMC peso/altura\n",
    "peso = float(input(\"Introduzca su peso\"))\n",
    "altura = float(input(\"Introduzca su altura\"))\n",
    "imc = peso/altura\n",
    "print(f\"Su indice de masa corporal es {round(imc)}\")"
   ]
  },
  {
   "cell_type": "markdown",
   "id": "9962a2e2",
   "metadata": {},
   "source": [
    "#### <font color=\"orange\">9</font> Crear un programa que pida al usuario una temperatura en grados Celsius e imprima por pantalla su equivalente en grados Fahrenheit."
   ]
  },
  {
   "cell_type": "code",
   "execution_count": 25,
   "id": "ab8450dc",
   "metadata": {},
   "outputs": [
    {
     "name": "stdout",
     "output_type": "stream",
     "text": [
      "La conversión de 34.0 grados Celsius a Fahrenheit es 93.2\n"
     ]
    }
   ],
   "source": [
    "celsius = float(input(\"Introduzca los grados que desea convertir\"))\n",
    "fahrenheit = (celsius*9/5)+32\n",
    "print(f\"La conversión de {celsius} grados Celsius a Fahrenheit es {fahrenheit}\")"
   ]
  },
  {
   "cell_type": "markdown",
   "id": "71bea168",
   "metadata": {},
   "source": [
    "#### <font color=\"orange\">10</font> Crear un programa que pida al usuario 3 números e imprima por pantalla el promedio de dichos números."
   ]
  },
  {
   "cell_type": "code",
   "execution_count": 26,
   "id": "1836c097",
   "metadata": {},
   "outputs": [
    {
     "name": "stdout",
     "output_type": "stream",
     "text": [
      "El promedio de 3, 6 y 18 es: 9.0\n"
     ]
    }
   ],
   "source": [
    "num1 = int(input(\"Introduzca el primer número\"))\n",
    "num2 = int(input(\"Introduzca el segundo número\"))\n",
    "num3 = int(input(\"Introduzca el tercer número\"))\n",
    "promedio = (num1+num2+num3)/3\n",
    "print(f\"El promedio de {num1}, {num2} y {num3} es: {promedio}\")"
   ]
  }
 ],
 "metadata": {
  "kernelspec": {
   "display_name": "Python 3",
   "language": "python",
   "name": "python3"
  },
  "language_info": {
   "codemirror_mode": {
    "name": "ipython",
    "version": 3
   },
   "file_extension": ".py",
   "mimetype": "text/x-python",
   "name": "python",
   "nbconvert_exporter": "python",
   "pygments_lexer": "ipython3",
   "version": "3.13.5"
  }
 },
 "nbformat": 4,
 "nbformat_minor": 5
}
